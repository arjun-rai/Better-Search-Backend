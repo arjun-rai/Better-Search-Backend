{
 "cells": [
  {
   "cell_type": "code",
   "execution_count": 1,
   "id": "initial_id",
   "metadata": {
    "ExecuteTime": {
     "end_time": "2024-03-12T06:49:53.009415Z",
     "start_time": "2024-03-12T06:49:51.731171Z"
    },
    "collapsed": true
   },
   "outputs": [
    {
     "ename": "ModuleNotFoundError",
     "evalue": "No module named 'dotenv'",
     "output_type": "error",
     "traceback": [
      "\u001b[0;31m---------------------------------------------------------------------------\u001b[0m",
      "\u001b[0;31mModuleNotFoundError\u001b[0m                       Traceback (most recent call last)",
      "Cell \u001b[0;32mIn[1], line 3\u001b[0m\n\u001b[1;32m      1\u001b[0m \u001b[38;5;28;01mimport\u001b[39;00m \u001b[38;5;21;01mos\u001b[39;00m\n\u001b[1;32m      2\u001b[0m \u001b[38;5;28;01mimport\u001b[39;00m \u001b[38;5;21;01mopenai\u001b[39;00m\n\u001b[0;32m----> 3\u001b[0m \u001b[38;5;28;01mfrom\u001b[39;00m \u001b[38;5;21;01mdotenv\u001b[39;00m \u001b[38;5;28;01mimport\u001b[39;00m load_dotenv\n\u001b[1;32m      4\u001b[0m \u001b[38;5;28;01mimport\u001b[39;00m \u001b[38;5;21;01mtime\u001b[39;00m\n\u001b[1;32m      5\u001b[0m \u001b[38;5;28;01mimport\u001b[39;00m \u001b[38;5;21;01mrandom\u001b[39;00m\n",
      "\u001b[0;31mModuleNotFoundError\u001b[0m: No module named 'dotenv'"
     ]
    }
   ],
   "source": [
    "import os\n",
    "import openai\n",
    "from dotenv import load_dotenv\n",
    "import time\n",
    "import random\n",
    "from pymongo import MongoClient\n",
    "from openai import OpenAI\n",
    "\n",
    "%load_ext autoreload\n",
    "%autoreload 2\n",
    "\n",
    "from db import *\n",
    "from googlefuncs import *\n",
    "from oai import *\n",
    "from workouts import *\n",
    "from helpers import *\n",
    "from prompts import *\n",
    "from function_tools import *\n",
    "from onboarding import *\n",
    "from client_registry import ClientRegistry\n",
    "\n",
    "load_dotenv()\n",
    "\n",
    "TWILIO_ACC = os.getenv('TWILIO_SID')\n",
    "TWILIO_TOKEN = os.getenv('TWILIO_TOKEN')\n",
    "# twilio_client = Client(TWILIO_ACC, TWILIO_TOKEN)\n",
    "oai_client = instructor.patch(OpenAI(api_key=os.getenv('OPENAI_KEY')))\n",
    "mongo_client = MongoClient(os.getenv('DB_HOST'))\n",
    "db = mongo_client['client-management']\n",
    "# pinecone = pinecone.Pinecone(api_key=os.getenv('PINECONE_KEY'))\n",
    "# initialize services in main function to be passed around when needed\n",
    "SERVICE_ACCOUNT_FILE = '../service-assistant-410820-3f5c79fa58a4.json'\n",
    "SCOPES = ['https://www.googleapis.com/auth/spreadsheets', 'https://www.googleapis.com/auth/drive']\n",
    "sheets_service, drive_service = initialize_services(SERVICE_ACCOUNT_FILE, SCOPES)\n",
    "\n",
    "# ClientRegistry.register_client('twilio_client', twilio_client)\n",
    "ClientRegistry.register_client('oai_client', oai_client)\n",
    "ClientRegistry.register_client('mongo_db', db)\n",
    "ClientRegistry.register_client('sheets_service', sheets_service)\n",
    "ClientRegistry.register_client('drive_service', drive_service)\n",
    "# ClientRegistry.register_client('pinecone_client', pinecone)"
   ]
  },
  {
   "cell_type": "code",
   "execution_count": 2,
   "id": "49a5d4ca9ee884b6",
   "metadata": {
    "ExecuteTime": {
     "end_time": "2024-03-12T06:50:05.521312Z",
     "start_time": "2024-03-12T06:50:04.672318Z"
    },
    "collapsed": false
   },
   "outputs": [],
   "source": [
    "common_sense_tool = [\n",
    "    {\n",
    "        'type': 'function',\n",
    "        'function': {\n",
    "            'name': 'common-sense',\n",
    "            'description': 'Given a user message, determine unknown entities or items from the message.',\n",
    "            'parameters': {\n",
    "                'type': 'object',\n",
    "                'properties': {\n",
    "                    'components': {\n",
    "                        'type': 'array',\n",
    "                        'items': {\n",
    "                            'type': 'object',\n",
    "                            'properties': {\n",
    "                                'unknown_component': {'type': 'string',\n",
    "                                                      'description': 'any unknown component in the message'},\n",
    "                            },\n",
    "                        }\n",
    "                    },\n",
    "                },\n",
    "                'required': ['components'],\n",
    "            },\n",
    "        }\n",
    "    }\n",
    "]"
   ]
  },
  {
   "cell_type": "code",
   "execution_count": 91,
   "id": "f8e8097814b76cf7",
   "metadata": {
    "ExecuteTime": {
     "end_time": "2024-03-12T17:25:34.081128Z",
     "start_time": "2024-03-12T17:25:34.026895Z"
    },
    "collapsed": false
   },
   "outputs": [],
   "source": [
    "class FunctionEnum(Enum):\n",
    "    create_new_workout_plan = 'create_new_workout_plan'\n",
    "    change_exercises_in_workout_plan = 'change_exercises_in_workout_plan'\n",
    "    question_about_program = 'question_about_program'\n",
    "    client_indicated_they_completed_workouts = 'client_indicated_they_completed_workouts'\n",
    "    general_conversation_and_questions = 'general_conversation_and_questions'\n",
    "    question_about_nutrition = 'question_about_nutrition'\n",
    "    question_about_trainer_background = 'question_about_trainer_background'\n",
    "    bad_intent_attempts_to_determine_if_AI_is_being_used = 'bad_intent_attempts_to_determine_if_AI_is_being_used'\n",
    "    unrelated_to_training_nutrition_or_fitness = 'unrelated_to_training_nutrition_or_fitness'\n",
    "    does_not_need_a_response = 'does_not_need_a_response'\n",
    "\n",
    "class Task(BaseModel):\n",
    "    action_to_take: str\n",
    "    part_of_user_message: str\n",
    "\n",
    "class Tasks(BaseModel):\n",
    "    tasks: List[Task] = []"
   ]
  },
  {
   "cell_type": "code",
   "execution_count": 92,
   "id": "6a61d1e333800a36",
   "metadata": {
    "ExecuteTime": {
     "end_time": "2024-03-12T17:25:36.442430Z",
     "start_time": "2024-03-12T17:25:36.422294Z"
    },
    "collapsed": false
   },
   "outputs": [],
   "source": [
    "user_message = 'Congrats on the hyper throw PR!!'\n",
    "\n",
    "common_sense_1 = {\n",
    "    'role': 'system',\n",
    "    'content': '''You are a personal trainer and expert in fitness, nutrition, sports, and weight training. Given a user message: {} follow the steps to determine how to answer the question. Start with Step 1.\n",
    "    Step 1) Break down the message into tasks\n",
    "    '''.format(user_message)\n",
    "}"
   ]
  },
  {
   "cell_type": "code",
   "execution_count": 93,
   "id": "80a4b12a1e19ff5e",
   "metadata": {
    "ExecuteTime": {
     "end_time": "2024-03-12T17:25:39.373112Z",
     "start_time": "2024-03-12T17:25:36.939419Z"
    },
    "collapsed": false
   },
   "outputs": [],
   "source": [
    "cs1 = oai_client.chat.completions.create(\n",
    "    model='gpt-4-0125-preview',\n",
    "    messages=[common_sense_1],\n",
    "    response_model=Tasks,\n",
    "    # tools=common_sense_tool,\n",
    "    # tool_choice={\"type\": \"function\", \"function\": {\"name\": 'common-sense'}},\n",
    "    temperature=0,\n",
    ")"
   ]
  },
  {
   "cell_type": "code",
   "execution_count": 94,
   "id": "753b7fff3a430e",
   "metadata": {
    "ExecuteTime": {
     "end_time": "2024-03-12T17:25:39.390663Z",
     "start_time": "2024-03-12T17:25:39.373357Z"
    },
    "collapsed": false
   },
   "outputs": [
    {
     "data": {
      "text/plain": [
       "Tasks(tasks=[Task(action_to_take='acknowledge achievement', part_of_user_message='Congrats on the hyper throw PR!!')])"
      ]
     },
     "execution_count": 94,
     "metadata": {},
     "output_type": "execute_result"
    }
   ],
   "source": [
    "cs1"
   ]
  },
  {
   "cell_type": "code",
   "execution_count": 81,
   "id": "e6b1fd05f098ed01",
   "metadata": {
    "ExecuteTime": {
     "end_time": "2024-03-12T17:13:04.358933Z",
     "start_time": "2024-03-12T17:13:04.306815Z"
    },
    "collapsed": false
   },
   "outputs": [],
   "source": [
    "# break down into sub tasks before asking for unknown components"
   ]
  },
  {
   "cell_type": "code",
   "execution_count": 96,
   "id": "8baf19ef256cfee1",
   "metadata": {
    "ExecuteTime": {
     "end_time": "2024-03-12T17:41:44.043959Z",
     "start_time": "2024-03-12T17:41:43.974474Z"
    },
    "collapsed": false
   },
   "outputs": [],
   "source": [
    "common_sense_2 = {\n",
    "    'role': 'system',\n",
    "    'content': '''You are an expert in fitness, nutrition, sports, and weight training. Given a user message: {} think step by step to determine how to process the question.\n",
    "    Step 1) Break down the message into tasks\n",
    "    {}\n",
    "    Step 2) determine if the message and task is logically sound\n",
    "    '''.format(user_message, cs1.tasks)\n",
    "}"
   ]
  },
  {
   "cell_type": "code",
   "execution_count": 99,
   "id": "4f6b4b487924887e",
   "metadata": {
    "ExecuteTime": {
     "end_time": "2024-03-12T17:42:15.950512Z",
     "start_time": "2024-03-12T17:42:14.335725Z"
    },
    "collapsed": false
   },
   "outputs": [],
   "source": [
    "class Reasoning(BaseModel):\n",
    "    contains_unfamiliar_components: bool\n",
    "    part_of_user_message: str\n",
    "\n",
    "class Components(BaseModel):\n",
    "    classification: List[Reasoning] = []\n",
    "\n",
    "\n",
    "cs2 = oai_client.chat.completions.create(\n",
    "    model='gpt-4-0125-preview',\n",
    "    messages=[common_sense_2],\n",
    "    # tools=common_sense_tool,\n",
    "    # tool_choice={\"type\": \"function\", \"function\": {\"name\": 'common-sense'}},\n",
    "    temperature=0,\n",
    "    response_model=Components\n",
    ")"
   ]
  },
  {
   "cell_type": "code",
   "execution_count": 100,
   "id": "f5c128d26262aa2a",
   "metadata": {
    "ExecuteTime": {
     "end_time": "2024-03-12T17:42:15.969141Z",
     "start_time": "2024-03-12T17:42:15.950981Z"
    },
    "collapsed": false
   },
   "outputs": [
    {
     "data": {
      "text/plain": [
       "Components(classification=[Reasoning(contains_unfamiliar_components=False, part_of_user_message='Congrats on the hyper throw PR!!')])"
      ]
     },
     "execution_count": 100,
     "metadata": {},
     "output_type": "execute_result"
    }
   ],
   "source": [
    "cs2"
   ]
  },
  {
   "cell_type": "code",
   "execution_count": 83,
   "id": "87ec25e37a7c72b1",
   "metadata": {
    "ExecuteTime": {
     "end_time": "2024-03-12T17:13:04.370535Z",
     "start_time": "2024-03-12T17:13:04.331989Z"
    },
    "collapsed": false
   },
   "outputs": [],
   "source": [
    "class KnownEntity(BaseModel):\n",
    "    known_or_not: bool  \n",
    "    what_is_known: str\n",
    "\n",
    "class Components(BaseModel):\n",
    "    classification: List[KnownEntity] = []"
   ]
  },
  {
   "cell_type": "code",
   "execution_count": 84,
   "id": "103a9cf91ec73138",
   "metadata": {
    "ExecuteTime": {
     "end_time": "2024-03-12T17:13:06.594348Z",
     "start_time": "2024-03-12T17:13:04.347261Z"
    },
    "collapsed": false
   },
   "outputs": [],
   "source": [
    "cs2 = oai_client.chat.completions.create(\n",
    "    model='gpt-4-0125-preview',\n",
    "    messages=[common_sense_2],\n",
    "    # tools=common_sense_tool,\n",
    "    # tool_choice={\"type\": \"function\", \"function\": {\"name\": 'common-sense'}},\n",
    "    temperature=0,\n",
    "    response_model=Components\n",
    ")"
   ]
  },
  {
   "cell_type": "code",
   "execution_count": 85,
   "id": "24d2c5858b47569e",
   "metadata": {
    "ExecuteTime": {
     "end_time": "2024-03-12T17:13:06.622055Z",
     "start_time": "2024-03-12T17:13:06.595180Z"
    },
    "collapsed": false
   },
   "outputs": [
    {
     "data": {
      "text/plain": [
       "[KnownEntity(known_or_not=True, what_is_known='acknowledge the achievement')]"
      ]
     },
     "execution_count": 85,
     "metadata": {},
     "output_type": "execute_result"
    }
   ],
   "source": [
    "cs2.classification"
   ]
  },
  {
   "cell_type": "code",
   "execution_count": 86,
   "id": "7389014bc8d686fd",
   "metadata": {
    "ExecuteTime": {
     "end_time": "2024-03-12T17:13:10.522861Z",
     "start_time": "2024-03-12T17:13:06.621149Z"
    },
    "collapsed": false
   },
   "outputs": [],
   "source": [
    "class CommonSense(BaseModel):\n",
    "    does_the_task_make_sense: bool\n",
    "    reasoning: str\n",
    "\n",
    "class CommonSenseCheck(BaseModel):\n",
    "    classification: List[CommonSense] = []\n",
    "\n",
    "common_sense_3 = {\n",
    "    'role': 'system',\n",
    "    'content': '''You are an expert in fitness, nutrition, sports, and weight training. Given a user message: {} think step by step to determine how to process the question.\n",
    "Step 1) Break down the message into tasks\n",
    "{}\n",
    "Step 2) determine if any of the tasks have unknown components\n",
    "{}\n",
    "Step 3) determine if the task makes sense\n",
    "'''.format(user_message, cs1.tasks, cs2.classification)\n",
    "}\n",
    "\n",
    "cs3 = oai_client.chat.completions.create(\n",
    "    model='gpt-4-0125-preview',\n",
    "    messages=[common_sense_3],\n",
    "    temperature=0,\n",
    "    response_model=CommonSenseCheck\n",
    ")"
   ]
  },
  {
   "cell_type": "code",
   "execution_count": 87,
   "id": "3b8f3bfd7e09db90",
   "metadata": {
    "ExecuteTime": {
     "end_time": "2024-03-12T17:13:10.535263Z",
     "start_time": "2024-03-12T17:13:10.521205Z"
    },
    "collapsed": false
   },
   "outputs": [
    {
     "data": {
      "text/plain": [
       "[CommonSense(does_the_task_make_sense=True, reasoning=\"Acknowledging someone's achievement, especially in sports or fitness, is a common and positive response. It encourages and celebrates the individual's progress or success.\")]"
      ]
     },
     "execution_count": 87,
     "metadata": {},
     "output_type": "execute_result"
    }
   ],
   "source": [
    "cs3.classification"
   ]
  },
  {
   "cell_type": "code",
   "execution_count": 88,
   "id": "238d2c0fed144bd3",
   "metadata": {
    "ExecuteTime": {
     "end_time": "2024-03-12T17:13:10.585292Z",
     "start_time": "2024-03-12T17:13:10.534955Z"
    },
    "collapsed": false
   },
   "outputs": [],
   "source": [
    "class ToComplete(BaseModel):\n",
    "    task_should_be_completed: bool\n",
    "    why_the_task_should_be_completed: str\n",
    "\n",
    "class CompleteTask(BaseModel):\n",
    "    classification: List[ToComplete] = []"
   ]
  },
  {
   "cell_type": "code",
   "execution_count": 89,
   "id": "b5e3985fcffa170c",
   "metadata": {
    "ExecuteTime": {
     "end_time": "2024-03-12T17:13:13.949744Z",
     "start_time": "2024-03-12T17:13:10.550616Z"
    },
    "collapsed": false
   },
   "outputs": [],
   "source": [
    "common_sense_4 = {\n",
    "    'role': 'system',\n",
    "    'content': '''You are an expert in fitness, nutrition, sports, and weight training. Given a user message: {} think step by step to determine how to process the question.\n",
    "    Step 1) Break down the message into tasks\n",
    "    {}\n",
    "    Step 2) determine if any of the tasks have unknown components\n",
    "    {}\n",
    "    Step 3) determine if the task makes sense\n",
    "    {}\n",
    "    Step 4) determine if the task should be completed\n",
    "    '''.format(user_message, cs1.tasks, cs2.classification, cs3.classification)\n",
    "}\n",
    "\n",
    "cs4 = oai_client.chat.completions.create(\n",
    "    model='gpt-4-0125-preview',\n",
    "    messages=[common_sense_3],\n",
    "    # tools=common_sense_tool,\n",
    "    # tool_choice={\"type\": \"function\", \"function\": {\"name\": 'common-sense'}},\n",
    "    temperature=0,\n",
    "    response_model=CompleteTask\n",
    ")"
   ]
  },
  {
   "cell_type": "code",
   "execution_count": 90,
   "id": "3b619530628ef7bd",
   "metadata": {
    "ExecuteTime": {
     "end_time": "2024-03-12T17:13:13.967192Z",
     "start_time": "2024-03-12T17:13:13.947064Z"
    },
    "collapsed": false
   },
   "outputs": [
    {
     "data": {
      "text/plain": [
       "CompleteTask(classification=[ToComplete(task_should_be_completed=True, why_the_task_should_be_completed=\"The task to acknowledge the achievement is clear and relevant, as it involves recognizing and celebrating the user's accomplishment in achieving a personal record (PR) in the hyper throw.\")])"
      ]
     },
     "execution_count": 90,
     "metadata": {},
     "output_type": "execute_result"
    }
   ],
   "source": [
    "cs4"
   ]
  },
  {
   "cell_type": "code",
   "execution_count": null,
   "id": "213f1a9edfe71652",
   "metadata": {
    "collapsed": false
   },
   "outputs": [],
   "source": [
    "# if the task shouldn't be completed, then the system should tell the user why it shouldn't be completed\n",
    "# if the task should be completed, then it needs to be delegated to the router"
   ]
  }
 ],
 "metadata": {
  "kernelspec": {
   "display_name": "Python 3",
   "language": "python",
   "name": "python3"
  },
  "language_info": {
   "codemirror_mode": {
    "name": "ipython",
    "version": 3
   },
   "file_extension": ".py",
   "mimetype": "text/x-python",
   "name": "python",
   "nbconvert_exporter": "python",
   "pygments_lexer": "ipython3",
   "version": "3.10.13"
  }
 },
 "nbformat": 4,
 "nbformat_minor": 5
}
