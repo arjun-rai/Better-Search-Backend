{
 "cells": [
  {
   "cell_type": "code",
   "execution_count": null,
   "metadata": {},
   "outputs": [],
   "source": [
    "'''     The 12 Months of Fitness strength exercises        Photos and video of these exercises are widely available on the Internet through YouTube or such sources as the American Council on Exercise’s Exercise Library at www.acefitness.org.   First quarter:  Three rounds of  1. Squats (12-15 reps)  2.  Plank hold (30 seconds; can be done on hands or forearms, knees or feet)  3. Bosu ball squats (12-15 reps; the Bosu adds a balance component to the squats, which encourages good form and posture)    (Illustration by Rachel Harris)   ←4. Hip bridges (12-15 reps; hold three seconds at the top)  Rest one minute between each set.  Second quarter:   Try increasing the challenge when possible by using small dumbbells or a medicine ball (5-15 pounds).  Three rounds of     (Illustration by Rachel Harris)  ← 1. Alternating lunges (12-15 reps for each leg)   2. Push-ups or floor press (12-15 reps)  3.  Mountain climbers (15 reps for each leg)  4. Bent-over row (12-15 reps)  Third quarter:  Three rounds of   1. Walking lunges with weights (8-10 reps per leg)    (Illustration by Rachel Harris)   ←2.  Sitting military press with dumbbells (8-10 reps per side)   3. Seated row with a resistance band (8-10 reps)  4. Lying dumbbell chest press (8-10 reps)  Fourth quarter:   Heavy lifts. To stay safe, consider having a trainer check your form.  Three rounds of   1. Back squat with barbell (6-8 reps)  2. Bench press (6-8 reps)  3. Deadlift (6-8 reps)    (Illustration by Rachel Harris)  ←  4.  Standing barbell press (6-8 reps)  — Gabriella Boston   Read more: 12 months to a fitter you       We are a participant in the Amazon Services LLC Associates Program, an affiliate advertising program designed to provide a means for us to earn fees by linking to Amazon.com and affiliated sites.   \n",
    "'''\n",
    "'''\n",
    "Progression based off of quarters\n",
    "\n",
    "First Quarter:\n",
    "Three rounds of  \n",
    "1. Squats (12-15 reps)  \n",
    "2.  Plank hold (30 seconds; can be done on hands or forearms, knees or feet)  \n",
    "3. Bosu ball squats (12-15 reps; the Bosu adds a balance component to the squats, which encourages good form and posture) \n",
    "4. Hip bridges (12-15 reps; hold three seconds at the top)  Rest one minute between each set. \n",
    "\n",
    "Second quarter:   \n",
    "Try increasing the challenge when possible by using small dumbbells or a medicine ball (5-15 pounds).  \n",
    "Three rounds of\n",
    "1. Alternating lunges (12-15 reps for each leg)\n",
    "2. Push-ups or floor press (12-15 reps)\n",
    "3.  Mountain climbers (15 reps for each leg)\n",
    "4. Bent-over row (12-15 reps)\n",
    "\n",
    "Third Quarter:\n",
    "Three rounds of   \n",
    "1. Walking lunges with weights (8-10 reps per leg)\n",
    "2.  Sitting military press with dumbbells (8-10 reps per side)\n",
    "3. Seated row with a resistance band (8-10 reps)\n",
    "4. Lying dumbbell chest press (8-10 reps)\n",
    "\n",
    "Fourth quarter:\n",
    "Heavy lifts. To stay safe, consider having a trainer check your form.  \n",
    "Three rounds of\n",
    "1. Back squat with barbell (6-8 reps)\n",
    "2. Bench press (6-8 reps)  3. Deadlift (6-8 reps)\n",
    "4.  Standing barbell press (6-8 reps)\n",
    "'''"
   ]
  },
  {
   "cell_type": "code",
   "execution_count": null,
   "metadata": {},
   "outputs": [],
   "source": []
  }
 ],
 "metadata": {
  "language_info": {
   "name": "python"
  }
 },
 "nbformat": 4,
 "nbformat_minor": 2
}
